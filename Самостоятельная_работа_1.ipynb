{
  "nbformat": 4,
  "nbformat_minor": 0,
  "metadata": {
    "colab": {
      "provenance": [],
      "authorship_tag": "ABX9TyPCTYke1LyXtQjxqEY7oH57",
      "include_colab_link": true
    },
    "kernelspec": {
      "name": "python3",
      "display_name": "Python 3"
    },
    "language_info": {
      "name": "python"
    }
  },
  "cells": [
    {
      "cell_type": "markdown",
      "metadata": {
        "id": "view-in-github",
        "colab_type": "text"
      },
      "source": [
        "<a href=\"https://colab.research.google.com/github/KudryashovDmitry/PDA_SOL/blob/main/%D0%A1%D0%B0%D0%BC%D0%BE%D1%81%D1%82%D0%BE%D1%8F%D1%82%D0%B5%D0%BB%D1%8C%D0%BD%D0%B0%D1%8F_%D1%80%D0%B0%D0%B1%D0%BE%D1%82%D0%B0_1.ipynb\" target=\"_parent\"><img src=\"https://colab.research.google.com/assets/colab-badge.svg\" alt=\"Open In Colab\"/></a>"
      ]
    },
    {
      "cell_type": "code",
      "execution_count": null,
      "metadata": {
        "colab": {
          "base_uri": "https://localhost:8080/"
        },
        "id": "RTkYnFKXnOcD",
        "outputId": "71ca28f9-a613-443a-dd72-a8a91e9da77c"
      },
      "outputs": [
        {
          "output_type": "stream",
          "name": "stdout",
          "text": [
            "К\n",
            "у\n",
            "д\n",
            "р\n",
            "я\n",
            "ш\n",
            "о\n",
            "в\n",
            " \n",
            "Д\n",
            "м\n",
            "и\n",
            "т\n",
            "р\n",
            "и\n",
            "й\n",
            " \n",
            "А\n",
            "л\n",
            "е\n",
            "к\n",
            "с\n",
            "е\n",
            "е\n",
            "в\n",
            "и\n",
            "ч\n"
          ]
        }
      ],
      "source": [
        "a=\"Кудряшов Дмитрий Алексеевич\"\n",
        "for b in a:\n",
        "  print(b)"
      ]
    },
    {
      "cell_type": "code",
      "source": [
        "a, b = float(input('Веддите количество рублей ')), float(input('Введите курс '))\n",
        "print (round(a*b, 2))"
      ],
      "metadata": {
        "colab": {
          "base_uri": "https://localhost:8080/"
        },
        "id": "Kgsb2CkzpIvT",
        "outputId": "977df887-e548-44cc-d702-9d39d10a9291"
      },
      "execution_count": null,
      "outputs": [
        {
          "output_type": "stream",
          "name": "stdout",
          "text": [
            "Веддите количество рублей 54\n",
            "Введите курс 78.435743\n",
            "4235.53\n"
          ]
        }
      ]
    }
  ]
}