{
  "cells": [
    {
      "cell_type": "markdown",
      "metadata": {
        "id": "view-in-github",
        "colab_type": "text"
      },
      "source": [
        "<a href=\"https://colab.research.google.com/github/KudryashovDmitry/PDA_SOL/blob/main/%D0%A1%D0%B0%D0%BC%D0%BE%D1%81%D1%82%D0%BE%D1%8F%D1%82%D0%B5%D0%BB%D1%8C%D0%BD%D0%B0%D1%8F_%D1%80%D0%B0%D0%B1%D0%BE%D1%82%D0%B0_2_ipynb%22.ipynb\" target=\"_parent\"><img src=\"https://colab.research.google.com/assets/colab-badge.svg\" alt=\"Open In Colab\"/></a>"
      ]
    },
    {
      "cell_type": "markdown",
      "metadata": {
        "id": "Wn1bGz8x5krb"
      },
      "source": [
        "# Самостоятельная работа 2. Numpy\n",
        "\n",
        "1. Скачайте этот ноутбук к себе.\n",
        "2. Заполните пропущенные ячейки, отвечая на заданные вопросы. Там должен быть код! (если не сказано обратное)\n",
        "3. Сохраните результат в своём гитхаб репозитории.\n",
        "\n",
        "#### Полезная литература\n",
        "\n",
        "- http://www.numpy.org/\n",
        "- https://jakevdp.github.io/PythonDataScienceHandbook/02.00-introduction-to-numpy.html\n",
        "- https://docs.scipy.org/doc/numpy/user/quickstart.html"
      ]
    },
    {
      "cell_type": "markdown",
      "metadata": {
        "id": "iNl0CbWy5kre"
      },
      "source": [
        "1) Импортировать numpy и написать версию"
      ]
    },
    {
      "cell_type": "code",
      "execution_count": 4,
      "metadata": {
        "id": "IlYfglt25krf",
        "colab": {
          "base_uri": "https://localhost:8080/"
        },
        "outputId": "ec2783fe-ad5c-4954-a720-9f4832c2f437"
      },
      "outputs": [
        {
          "output_type": "stream",
          "name": "stdout",
          "text": [
            "1.23.5\n"
          ]
        }
      ],
      "source": [
        "import numpy as np\n",
        "print(np.__version__)"
      ]
    },
    {
      "cell_type": "markdown",
      "metadata": {
        "id": "5-becKBh5krg"
      },
      "source": [
        "2) Создать нулевой вектор размера 10"
      ]
    },
    {
      "cell_type": "code",
      "execution_count": null,
      "metadata": {
        "id": "Xcu6GobT5krh",
        "colab": {
          "base_uri": "https://localhost:8080/"
        },
        "outputId": "58d288b3-fa11-4c88-aa42-4696e3453d83"
      },
      "outputs": [
        {
          "output_type": "stream",
          "name": "stdout",
          "text": [
            "[0. 0. 0. 0. 0. 0. 0. 0. 0. 0.]\n"
          ]
        }
      ],
      "source": [
        "a = np.zeros(10)\n",
        "print(a)"
      ]
    },
    {
      "cell_type": "markdown",
      "metadata": {
        "id": "DbMtRagV5krh"
      },
      "source": [
        "3) Создать вектор заполненный 7-ами размера 7\n",
        "\n",
        "---\n",
        "\n"
      ]
    },
    {
      "cell_type": "code",
      "execution_count": null,
      "metadata": {
        "id": "90Bc6BO45krh",
        "colab": {
          "base_uri": "https://localhost:8080/"
        },
        "outputId": "a33a5877-f420-4145-95c1-61619bf77b6c"
      },
      "outputs": [
        {
          "output_type": "stream",
          "name": "stdout",
          "text": [
            "[7 7 7 7 7 7 7]\n"
          ]
        }
      ],
      "source": [
        "a = np.full(7,7)\n",
        "print(a)"
      ]
    },
    {
      "cell_type": "markdown",
      "metadata": {
        "id": "lc58etTB5krh"
      },
      "source": [
        "4) Создать вектор заполненный четными числами от 10 до 100"
      ]
    },
    {
      "cell_type": "code",
      "execution_count": null,
      "metadata": {
        "id": "jeod1eb45krh",
        "colab": {
          "base_uri": "https://localhost:8080/"
        },
        "outputId": "70f62c04-41f5-46c8-fbc5-79cf902a69dc"
      },
      "outputs": [
        {
          "output_type": "stream",
          "name": "stdout",
          "text": [
            "[ 10  12  14  16  18  20  22  24  26  28  30  32  34  36  38  40  42  44\n",
            "  46  48  50  52  54  56  58  60  62  64  66  68  70  72  74  76  78  80\n",
            "  82  84  86  88  90  92  94  96  98 100]\n"
          ]
        }
      ],
      "source": [
        "a=np.arange(10,101,2)\n",
        "print(a)"
      ]
    },
    {
      "cell_type": "markdown",
      "metadata": {
        "id": "3cTBfP2_5kri"
      },
      "source": [
        "5) Создать массив случайных чисел и развернуть его задом наперёд"
      ]
    },
    {
      "cell_type": "code",
      "execution_count": null,
      "metadata": {
        "id": "9LluSEsP5kri",
        "colab": {
          "base_uri": "https://localhost:8080/"
        },
        "outputId": "16961df4-da3c-4fec-e875-ed79977a9805"
      },
      "outputs": [
        {
          "output_type": "stream",
          "name": "stdout",
          "text": [
            "[3 7 7 9 9 1 3 6 9 3]\n",
            "[3 9 6 3 1 9 9 7 7 3]\n"
          ]
        }
      ],
      "source": [
        "a=np.random.randint(1,10,size=10)\n",
        "print(a)\n",
        "b=np.flipud(a)\n",
        "print(b)"
      ]
    },
    {
      "cell_type": "markdown",
      "metadata": {
        "id": "GYPlFqP05kri"
      },
      "source": [
        "6) Создать двумерную матрицу размера 3 на 3, заполненную числами от 0 до 8"
      ]
    },
    {
      "cell_type": "code",
      "execution_count": null,
      "metadata": {
        "id": "ZhCQHmWe5kri",
        "colab": {
          "base_uri": "https://localhost:8080/"
        },
        "outputId": "7d8b0374-1b30-4c29-d210-81cdd458ed31"
      },
      "outputs": [
        {
          "output_type": "stream",
          "name": "stdout",
          "text": [
            "[[0 1 2]\n",
            " [3 4 5]\n",
            " [6 7 8]]\n"
          ]
        }
      ],
      "source": [
        "a=np.arange(0,9).reshape(3,3)\n",
        "print(a)"
      ]
    },
    {
      "cell_type": "markdown",
      "metadata": {
        "id": "dezy0XBN5krj"
      },
      "source": [
        "7) Создать матрицу размера 4 на 4 с единицами на диагонали смещеной на один наверх."
      ]
    },
    {
      "cell_type": "code",
      "execution_count": 13,
      "metadata": {
        "id": "XBP1LKJc5krj",
        "colab": {
          "base_uri": "https://localhost:8080/"
        },
        "outputId": "03358a97-f370-4d84-89ca-de5dab64b683"
      },
      "outputs": [
        {
          "output_type": "stream",
          "name": "stdout",
          "text": [
            "[[0. 1. 0. 0.]\n",
            " [0. 0. 1. 0.]\n",
            " [0. 0. 0. 1.]\n",
            " [0. 0. 0. 0.]]\n"
          ]
        }
      ],
      "source": [
        "a = np.eye(4, k=1)\n",
        "print(a)"
      ]
    },
    {
      "cell_type": "markdown",
      "metadata": {
        "id": "0aNb995x5krj"
      },
      "source": [
        "8) Создать матрицу с числами в диапазоне от 1 до 4 по диагонали. В других ячейках матрицы должны быть семерки."
      ]
    },
    {
      "cell_type": "code",
      "execution_count": null,
      "metadata": {
        "id": "rnuEvHWE5krk",
        "colab": {
          "base_uri": "https://localhost:8080/"
        },
        "outputId": "f6233932-de17-4211-c7f3-1f1594186635"
      },
      "outputs": [
        {
          "output_type": "stream",
          "name": "stdout",
          "text": [
            "[[1 7 7 7]\n",
            " [7 2 7 7]\n",
            " [7 7 3 7]\n",
            " [7 7 7 4]]\n"
          ]
        }
      ],
      "source": [
        "a=np.diag(range(1,5))\n",
        "a[a==0]=7\n",
        "print(a)"
      ]
    },
    {
      "cell_type": "markdown",
      "metadata": {
        "id": "zcTSeklL5krk"
      },
      "source": [
        "9) Создать матрицу размера 5 на 5 заполненную чилами от 0 до 4 в строках."
      ]
    },
    {
      "cell_type": "code",
      "execution_count": null,
      "metadata": {
        "id": "o1bxkCIt5krk",
        "colab": {
          "base_uri": "https://localhost:8080/"
        },
        "outputId": "dee86e22-4aa3-410d-a626-f0e241228381"
      },
      "outputs": [
        {
          "output_type": "stream",
          "name": "stdout",
          "text": [
            "[[0 1 2 3 4]\n",
            " [0 1 2 3 4]\n",
            " [0 1 2 3 4]\n",
            " [0 1 2 3 4]\n",
            " [0 1 2 3 4]]\n"
          ]
        }
      ],
      "source": [
        "a=np.array(list(range(5)) * 5).reshape(5,5)\n",
        "print(a)"
      ]
    },
    {
      "cell_type": "markdown",
      "metadata": {
        "id": "A8iVpubY5krk"
      },
      "source": [
        "10) Создать матрицу случайных чисел размера 10 на 10 и отнять среднее по строкам из каждого элемента строки"
      ]
    },
    {
      "cell_type": "code",
      "execution_count": 12,
      "metadata": {
        "id": "diqeSjTy5krk",
        "colab": {
          "base_uri": "https://localhost:8080/"
        },
        "outputId": "78da8194-1f36-4a73-c942-eba696038513"
      },
      "outputs": [
        {
          "output_type": "stream",
          "name": "stdout",
          "text": [
            "[[5 4 5 7 6 0 7 1 6 5]\n",
            " [8 2 1 5 9 7 9 5 3 1]\n",
            " [1 9 4 2 0 5 0 0 5 3]\n",
            " [3 9 8 0 0 3 1 3 8 9]\n",
            " [8 5 0 2 6 0 0 8 6 6]\n",
            " [6 3 7 6 1 5 9 8 9 6]\n",
            " [2 6 7 0 8 8 3 8 3 6]\n",
            " [7 7 5 7 3 1 8 9 3 1]\n",
            " [3 0 4 1 2 6 5 1 2 7]\n",
            " [7 7 9 8 7 0 0 9 0 0]]\n",
            "[[ 0.4 -0.6  0.4  2.4  1.4 -4.6  2.4 -3.6  1.4  0.4]\n",
            " [ 3.  -3.  -4.   0.   4.   2.   4.   0.  -2.  -4. ]\n",
            " [-1.9  6.1  1.1 -0.9 -2.9  2.1 -2.9 -2.9  2.1  0.1]\n",
            " [-1.4  4.6  3.6 -4.4 -4.4 -1.4 -3.4 -1.4  3.6  4.6]\n",
            " [ 3.9  0.9 -4.1 -2.1  1.9 -4.1 -4.1  3.9  1.9  1.9]\n",
            " [ 0.  -3.   1.   0.  -5.  -1.   3.   2.   3.   0. ]\n",
            " [-3.1  0.9  1.9 -5.1  2.9  2.9 -2.1  2.9 -2.1  0.9]\n",
            " [ 1.9  1.9 -0.1  1.9 -2.1 -4.1  2.9  3.9 -2.1 -4.1]\n",
            " [-0.1 -3.1  0.9 -2.1 -1.1  2.9  1.9 -2.1 -1.1  3.9]\n",
            " [ 2.3  2.3  4.3  3.3  2.3 -4.7 -4.7  4.3 -4.7 -4.7]]\n"
          ]
        }
      ],
      "source": [
        "a=np.random.randint(10,size=(10,10))\n",
        "print(a)\n",
        "a1 = a-a.mean(axis=1,keepdims=True)\n",
        "print(a1)\n"
      ]
    },
    {
      "cell_type": "markdown",
      "metadata": {
        "id": "zPsWZ7N05krk"
      },
      "source": [
        "11) Создать матрицу случайных чисел размера 10 на 10 и отнять медиану по столбцам из каждого элемента столбца  "
      ]
    },
    {
      "cell_type": "code",
      "execution_count": 11,
      "metadata": {
        "id": "1Z0lcCY25krk",
        "colab": {
          "base_uri": "https://localhost:8080/"
        },
        "outputId": "0ec68305-e5e9-4f52-bf00-e6b6048d7436"
      },
      "outputs": [
        {
          "output_type": "stream",
          "name": "stdout",
          "text": [
            "[[4 7 0 8 2 1 3 8 4 9]\n",
            " [5 0 3 1 7 0 2 4 7 1]\n",
            " [2 0 5 8 7 0 7 0 1 9]\n",
            " [5 7 7 7 9 3 2 4 3 3]\n",
            " [3 4 1 1 7 5 8 1 5 1]\n",
            " [5 4 3 4 3 7 0 6 6 9]\n",
            " [9 5 6 6 2 2 5 8 3 0]\n",
            " [4 9 9 4 5 8 0 7 6 6]\n",
            " [9 1 9 3 8 0 2 0 9 1]\n",
            " [5 7 3 8 4 5 9 7 9 6]]\n",
            "[[-1.   2.5 -4.   3.  -4.  -1.5  0.5  3.  -1.5  4.5]\n",
            " [ 0.  -4.5 -1.  -4.   1.  -2.5 -0.5 -1.   1.5 -3.5]\n",
            " [-3.  -4.5  1.   3.   1.  -2.5  4.5 -5.  -4.5  4.5]\n",
            " [ 0.   2.5  3.   2.   3.   0.5 -0.5 -1.  -2.5 -1.5]\n",
            " [-2.  -0.5 -3.  -4.   1.   2.5  5.5 -4.  -0.5 -3.5]\n",
            " [ 0.  -0.5 -1.  -1.  -3.   4.5 -2.5  1.   0.5  4.5]\n",
            " [ 4.   0.5  2.   1.  -4.  -0.5  2.5  3.  -2.5 -4.5]\n",
            " [-1.   4.5  5.  -1.  -1.   5.5 -2.5  2.   0.5  1.5]\n",
            " [ 4.  -3.5  5.  -2.   2.  -2.5 -0.5 -5.   3.5 -3.5]\n",
            " [ 0.   2.5 -1.   3.  -2.   2.5  6.5  2.   3.5  1.5]]\n"
          ]
        }
      ],
      "source": [
        "a=np.random.randint(10,size =(10,10))\n",
        "print(a)\n",
        "a1=a-np.median(a,axis=0,keepdims=True)\n",
        "print(a1)"
      ]
    },
    {
      "cell_type": "markdown",
      "metadata": {
        "id": "yioqaO4i5krk"
      },
      "source": [
        "12) Создать матрицу случайных чисел 5x5. Добавить к ней столбецы максимумов и минимумов по строкам. Получится матрица 5x7.  "
      ]
    },
    {
      "cell_type": "code",
      "execution_count": 9,
      "metadata": {
        "id": "34z_xQ3C5krk",
        "colab": {
          "base_uri": "https://localhost:8080/"
        },
        "outputId": "8cd88c2f-ce8e-45a8-cadd-930429ae7730"
      },
      "outputs": [
        {
          "output_type": "execute_result",
          "data": {
            "text/plain": [
              "array([[63, 21, 11, 60, 35, 63, 11],\n",
              "       [43, 16, 16, 27, 86, 86, 16],\n",
              "       [45, 47, 74, 65, 48, 74, 45],\n",
              "       [64,  4, 94, 59, 76, 94,  4],\n",
              "       [33, 54, 61, 96, 54, 96, 33]])"
            ]
          },
          "metadata": {},
          "execution_count": 9
        }
      ],
      "source": [
        "a=np.random.randint(100,size=(5, 5))\n",
        "a.max(axis=1,keepdims=True)\n",
        "a.min(axis=1,keepdims=True)\n",
        "np.concatenate((a,a.max(axis=1,keepdims=True),a.min(axis=1,keepdims=True)),axis=1)"
      ]
    },
    {
      "cell_type": "markdown",
      "metadata": {
        "id": "EB3_7esZ5krl"
      },
      "source": [
        "13) Вектор чисел от 1 до 51 преобразовать в вектор нечетных чисел и в вектор четных чисел, поменять их размерности, чтобы получились две матрица. Найти произведение этих матриц. Найти обратную матрицу эётого произведения.  "
      ]
    },
    {
      "cell_type": "code",
      "execution_count": 6,
      "metadata": {
        "id": "WnJc53Pw5krl",
        "colab": {
          "base_uri": "https://localhost:8080/"
        },
        "outputId": "1400edf8-5a6c-4521-adfc-3ed5d4ea7de1"
      },
      "outputs": [
        {
          "output_type": "stream",
          "name": "stdout",
          "text": [
            "[[ 2  4  6  8 10 12]\n",
            " [14 16 18 20 22 24]\n",
            " [26 28 30 32 34 36]\n",
            " [38 40 42 44 46 48]]\n",
            "[[ 3  5  7  9]\n",
            " [11 13 15 17]\n",
            " [19 21 23 25]\n",
            " [27 29 31 33]\n",
            " [35 37 39 41]\n",
            " [43 45 47 49]]\n",
            "[[1246 1330 1414 1498]\n",
            " [2902 3130 3358 3586]\n",
            " [4558 4930 5302 5674]\n",
            " [6214 6730 7246 7762]]\n",
            "[[-3.66503876e+11  3.21853878e-04  1.09951163e+12 -7.33007752e+11]\n",
            " [-7.33007752e+11  2.19902326e+12 -2.19902326e+12  7.33007752e+11]\n",
            " [ 2.56552713e+12 -4.39804651e+12  1.09951163e+12  7.33007752e+11]\n",
            " [-1.46601550e+12  2.19902326e+12  0.00000000e+00 -7.33007752e+11]]\n"
          ]
        }
      ],
      "source": [
        "a=np.mat(np.arange(1,50)[1::2]).reshape(4,6)\n",
        "b=np.mat(np.arange(1,50)[2::2]).reshape(6,4)\n",
        "print(a)\n",
        "print(b)\n",
        "print(a*b)\n",
        "print(np.linalg.inv(a*b))"
      ]
    },
    {
      "cell_type": "markdown",
      "metadata": {
        "id": "DoNHya0T5krl"
      },
      "source": [
        "14) Создать 8x8 матрицу и заполнить её в шахматном порядке нулями и единицами."
      ]
    },
    {
      "cell_type": "code",
      "execution_count": 14,
      "metadata": {
        "id": "aZi1ZJL95krl",
        "colab": {
          "base_uri": "https://localhost:8080/"
        },
        "outputId": "7ca5d0c1-5dc6-4aed-8439-4c15935b3956"
      },
      "outputs": [
        {
          "output_type": "stream",
          "name": "stdout",
          "text": [
            "[[0 1 0 1 0 1 0 1]\n",
            " [1 0 1 0 1 0 1 0]\n",
            " [0 1 0 1 0 1 0 1]\n",
            " [1 0 1 0 1 0 1 0]\n",
            " [0 1 0 1 0 1 0 1]\n",
            " [1 0 1 0 1 0 1 0]\n",
            " [0 1 0 1 0 1 0 1]\n",
            " [1 0 1 0 1 0 1 0]]\n"
          ]
        }
      ],
      "source": [
        "a=np.zeros((8,8),dtype=int)\n",
        "a[1::2,::2]=1\n",
        "a[::2,1::2]=1\n",
        "print(a)"
      ]
    }
  ],
  "metadata": {
    "kernelspec": {
      "display_name": "Python 3",
      "language": "python",
      "name": "python3"
    },
    "language_info": {
      "codemirror_mode": {
        "name": "ipython",
        "version": 3
      },
      "file_extension": ".py",
      "mimetype": "text/x-python",
      "name": "python",
      "nbconvert_exporter": "python",
      "pygments_lexer": "ipython3",
      "version": "3.8.0"
    },
    "colab": {
      "provenance": [],
      "include_colab_link": true
    }
  },
  "nbformat": 4,
  "nbformat_minor": 0
}