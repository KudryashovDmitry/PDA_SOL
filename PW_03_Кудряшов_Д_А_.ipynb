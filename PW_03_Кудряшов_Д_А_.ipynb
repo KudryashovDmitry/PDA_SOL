{
  "cells": [
    {
      "cell_type": "markdown",
      "metadata": {
        "id": "view-in-github",
        "colab_type": "text"
      },
      "source": [
        "<a href=\"https://colab.research.google.com/github/KudryashovDmitry/PDA_SOL/blob/main/PW_03_%D0%9A%D1%83%D0%B4%D1%80%D1%8F%D1%88%D0%BE%D0%B2_%D0%94_%D0%90_.ipynb\" target=\"_parent\"><img src=\"https://colab.research.google.com/assets/colab-badge.svg\" alt=\"Open In Colab\"/></a>"
      ]
    },
    {
      "cell_type": "markdown",
      "metadata": {
        "id": "RGcbZxxOH5EH"
      },
      "source": [
        "# Практическая работа 3. Программные средства консолидации данных\n",
        "\n",
        "## Цель работы\n",
        "Освоить практические навыки консолидации данных из различных источников с использованием Python и библиотеки pandas.\n",
        "\n",
        "## Задачи\n",
        "1. Загрузить данные из различных источников (CSV, Excel, JSON).\n",
        "2. Провести предварительную обработку и очистку данных.\n",
        "3. Объединить данные из разных источников.\n",
        "4. Выполнить агрегацию и трансформацию данных.\n",
        "5. Сохранить консолидированные данные в новый файл.\n",
        "\n",
        "## Необходимое программное обеспечение\n",
        "- Python 3.x\n",
        "- Библиотеки: pandas, numpy, matplotlib\n",
        "\n",
        "## Исходные данные\n",
        "- `sales_2022.csv`: данные о продажах за 2022 год\n",
        "- `sales_2023.xlsx`: данные о продажах за 2023 год\n",
        "- `products.json`: информация о продуктах\n"
      ]
    },
    {
      "cell_type": "markdown",
      "metadata": {
        "id": "itskBlgALAiy"
      },
      "source": [
        "Вариант 17.\n",
        "1. Файл CSV: список товаров на складе (артикул, категория, количество).\n",
        "2. Файл Excel: данные о продажах (артикул товара, дата, количество).\n",
        "3. Файл JSON: данные о спросе на товары по категориям.\n",
        "Задача: объединить данные и рассчитать прогнозный остаток товаров на\n",
        "складе."
      ]
    },
    {
      "cell_type": "markdown",
      "metadata": {
        "id": "rrCNKG2ZII1s"
      },
      "source": [
        "## Ход работы"
      ]
    },
    {
      "cell_type": "markdown",
      "metadata": {
        "id": "wKifPGN0ILnu"
      },
      "source": [
        "Процесс создания тестовых данных для файлов\n",
        "- `sales_data_2022.csv`\n",
        "- `sales_data_2023.xlsx`\n",
        "- `products_data.json`\n"
      ]
    },
    {
      "cell_type": "code",
      "execution_count": null,
      "metadata": {
        "id": "juFehJqiH1ET"
      },
      "outputs": [],
      "source": [
        "import pandas as pd\n",
        "import numpy as np\n",
        "import json\n",
        "from datetime import datetime, timedelta\n",
        "import random\n"
      ]
    },
    {
      "cell_type": "code",
      "execution_count": null,
      "metadata": {
        "id": "3MMqaYqIImQ8"
      },
      "outputs": [],
      "source": [
        "# Функция для генерации случайной даты\n",
        "def random_date(start, end):\n",
        "    return start + timedelta(days=random.randint(0, (end - start).days))"
      ]
    },
    {
      "cell_type": "markdown",
      "metadata": {
        "id": "j87BEfeLJA3p"
      },
      "source": [
        "1. Генерация данных о продуктах (CSV): Создаётся 1000 товаров с уникальными артикулами и случайными категориями. Количество на складе варьируется от 1 до 500."
      ]
    },
    {
      "cell_type": "code",
      "execution_count": null,
      "metadata": {
        "colab": {
          "base_uri": "https://localhost:8080/"
        },
        "id": "9F5dwllZIqqM",
        "outputId": "84927289-fb3c-4646-dff8-5c6e431f565b"
      },
      "outputs": [
        {
          "name": "stdout",
          "output_type": "stream",
          "text": [
            "Файл products_stock.csv создан\n"
          ]
        }
      ],
      "source": [
        "# Генерация данных о продуктах на складе (CSV)\n",
        "categories = ['Электроника', 'Одежда', 'Книги', 'Бытовая техника', 'Спорттовары']\n",
        "products = []\n",
        "\n",
        "for i in range(1, 1001):  # Генерация 1000 товаров\n",
        "    product = {\n",
        "        'article': f'A{i:04}',  # Артикул в формате A0001, A0002 и т.д.\n",
        "        'category': random.choice(categories),\n",
        "        'quantity': random.randint(1, 500)  # Количество на складе\n",
        "    }\n",
        "    products.append(product)\n",
        "\n",
        "df_products = pd.DataFrame(products)\n",
        "df_products.to_csv('products_stock.csv', index=False)\n",
        "print(\"Файл products_stock.csv создан\")"
      ]
    },
    {
      "cell_type": "markdown",
      "metadata": {
        "id": "2XlUNgeUJEod"
      },
      "source": [
        "2. Генерация данных о продажах (Excel): Создаётся по 10,000 и 13000 записей о продажах за 2022 и 2023 годы. Для каждой записи указывается дата продажи, артикул товара и количество проданных единиц."
      ]
    },
    {
      "cell_type": "code",
      "execution_count": null,
      "metadata": {
        "colab": {
          "base_uri": "https://localhost:8080/"
        },
        "id": "xO9l1LsCIwOX",
        "outputId": "493f6b38-841e-4dae-c735-52abaf1f6220"
      },
      "outputs": [
        {
          "output_type": "stream",
          "name": "stdout",
          "text": [
            "Файл sales_2022.xlsx создан\n"
          ]
        }
      ],
      "source": [
        "# Генерация данных о продажах за 2022 и 2023 годы (Excel)\n",
        "# Периоды для генерации\n",
        "start_date_2022 = datetime(2022, 1, 1)\n",
        "end_date_2022 = datetime(2022, 12, 31)\n",
        "start_date_2023 = datetime(2023, 1, 1)\n",
        "end_date_2023 = datetime(2023, 12, 31)\n",
        "\n",
        "# Генерация данных о продажах за 2022 год\n",
        "sales_2022 = []\n",
        "\n",
        "for _ in range(10000):  # Генер 10000 записей о продажах за 2022 год\n",
        "    product = random.choice(products)\n",
        "    sale = {\n",
        "        'article': product['article'],\n",
        "        'date': random_date(start_date_2022, end_date_2022).strftime('%Y-%m-%d'),\n",
        "        'quantity': random.randint(1, 20)  # Продано от 1 до 20 ед товара\n",
        "    }\n",
        "    sales_2022.append(sale)\n",
        "\n",
        "df_sales_2022 = pd.DataFrame(sales_2022)\n",
        "df_sales_2022.to_excel('sales_2022.xlsx', index=False)\n",
        "print(\"Файл sales_2022.xlsx создан\")"
      ]
    },
    {
      "cell_type": "markdown",
      "metadata": {
        "id": "cqGZP_I0Nx9N"
      },
      "source": [
        "3. Создание sales_2023.xlsx:\n",
        "   - Процесс аналогичен созданию файла за 2022 год, но с некоторыми отличиями:\n",
        "   - Генерируется большее количество записей (13000) для имитации роста продаж.\n",
        "   - Максимальное количество проданных единиц увеличено до 15 для создания вариативности.\n",
        "   - Данные сохраняются в формате Excel (xlsx)."
      ]
    },
    {
      "cell_type": "code",
      "execution_count": null,
      "metadata": {
        "colab": {
          "base_uri": "https://localhost:8080/"
        },
        "id": "Wpbi6nIoMWvy",
        "outputId": "6dab9276-b158-40b9-9f6b-d4f67deda810"
      },
      "outputs": [
        {
          "name": "stdout",
          "output_type": "stream",
          "text": [
            "Файл sales_2023.xlsx создан\n"
          ]
        }
      ],
      "source": [
        "# Генерация данных о продажах за 2023 год\n",
        "sales_2023 = []\n",
        "\n",
        "for _ in range(13000):  # Ген-ем 13000 записей о продажах за 2023 год\n",
        "    product = random.choice(products)\n",
        "    sale = {\n",
        "        'article': product['article'],\n",
        "        'date': random_date(start_date_2023, end_date_2023).strftime('%Y-%m-%d'),\n",
        "        'quantity': random.randint(1, 20)  # Продано от 1 до 20 ед товара\n",
        "    }\n",
        "    sales_2023.append(sale)\n",
        "\n",
        "df_sales_2023 = pd.DataFrame(sales_2023)\n",
        "df_sales_2023.to_excel('sales_2023.xlsx', index=False)\n",
        "print(\"Файл sales_2023.xlsx создан\")"
      ]
    },
    {
      "cell_type": "markdown",
      "metadata": {
        "id": "_nTcQv2UNGEc"
      },
      "source": [
        "3. Генерация данных о спросе (JSON): Для каждой категории товаров генерируется случайный коэффициент спроса (от 0.5 до 1.0).\n"
      ]
    },
    {
      "cell_type": "code",
      "execution_count": null,
      "metadata": {
        "colab": {
          "base_uri": "https://localhost:8080/"
        },
        "id": "29y81JEfMaBg",
        "outputId": "ebaa9748-2fb7-4b62-fdc1-ad685b842a4a"
      },
      "outputs": [
        {
          "name": "stdout",
          "output_type": "stream",
          "text": [
            "Файл demand_data.json создан\n"
          ]
        }
      ],
      "source": [
        "# Генерация данных о спросе по категориям (JSON)\n",
        "demand_data = []\n",
        "\n",
        "for category in categories:\n",
        "    demand = {\n",
        "        'category': category,\n",
        "        'demand': round(random.uniform(0.5, 1.0), 2)  # Случайный коэффициент спроса от 0.5 до 1.0\n",
        "    }\n",
        "    demand_data.append(demand)\n",
        "\n",
        "df_demand = pd.DataFrame(demand_data)\n",
        "df_demand.to_json('demand_data.json', orient='records')\n",
        "print(\"Файл demand_data.json создан\")"
      ]
    },
    {
      "cell_type": "markdown",
      "metadata": {
        "id": "tqqk2XtSJGzV"
      },
      "source": []
    },
    {
      "cell_type": "code",
      "execution_count": null,
      "metadata": {
        "colab": {
          "base_uri": "https://localhost:8080/"
        },
        "id": "7z6rGsrVI5ps",
        "outputId": "80a01618-d890-433f-a8e8-db2cea0fc798"
      },
      "outputs": [
        {
          "name": "stdout",
          "output_type": "stream",
          "text": [
            "demand_data.json  products_stock.csv  sales_2022.xlsx  sales_2023.xlsx  \u001b[0m\u001b[01;34msample_data\u001b[0m/\n"
          ]
        }
      ],
      "source": [
        "ls"
      ]
    },
    {
      "cell_type": "markdown",
      "metadata": {
        "id": "WMqOi45ZJKPW"
      },
      "source": [
        "Особенности сгенерированных данных:\n",
        "- Все файлы связаны между собой через поле product_id.\n",
        "- Данные имеют реалистичную структуру и вариативность.\n",
        "- В данных присутствуют различные типы полей: строковые (категории, ID), числовые (цены, количество), даты."
      ]
    },
    {
      "cell_type": "markdown",
      "metadata": {
        "id": "TBG7soLzJclT"
      },
      "source": [
        "### Шаг 1: Подготовка рабочей среды\n",
        "\n",
        "1. Создайте новый Python-скрипт `data_consolidation.py`.\n",
        "2. Импортируйте необходимые библиотеки:\n",
        "\n"
      ]
    },
    {
      "cell_type": "code",
      "execution_count": null,
      "metadata": {
        "id": "tTq0rcZtJNqG"
      },
      "outputs": [],
      "source": [
        "import pandas as pd\n",
        "import numpy as np\n",
        "import matplotlib.pyplot as plt"
      ]
    },
    {
      "cell_type": "code",
      "execution_count": null,
      "metadata": {
        "id": "1tdaCp5GJo95"
      },
      "outputs": [],
      "source": [
        "# агрузка данных\n",
        "df_products = pd.read_csv('products_stock.csv')\n",
        "df_sales_2022 = pd.read_excel('sales_2022.xlsx')\n",
        "df_sales_2023 = pd.read_excel('sales_2023.xlsx')\n",
        "df_demand = pd.read_json('demand_data.json')"
      ]
    },
    {
      "cell_type": "markdown",
      "metadata": {
        "id": "dqlsCfijJoMl"
      },
      "source": [
        "### Шаг 2: Загрузка данных\n",
        "1. Загрузите данные из CSV-файла:"
      ]
    },
    {
      "cell_type": "code",
      "execution_count": null,
      "metadata": {
        "colab": {
          "base_uri": "https://localhost:8080/"
        },
        "id": "IfnB5rouOfjq",
        "outputId": "82ab672c-0494-47af-fd76-12468cb2e644"
      },
      "outputs": [
        {
          "name": "stdout",
          "output_type": "stream",
          "text": [
            "\n",
            "Данные о продукте год:\n",
            "  article         category  quantity\n",
            "0   A0001  Бытовая техника       303\n",
            "1   A0002            Книги       174\n",
            "2   A0003      Спорттовары       341\n",
            "3   A0004      Электроника       316\n",
            "4   A0005           Одежда       405\n"
          ]
        }
      ],
      "source": [
        "df_2023 = pd.read_csv('products_stock.csv')\n",
        "print(\"\\nДанные о продукте год:\")\n",
        "print(df_2023.head())"
      ]
    },
    {
      "cell_type": "markdown",
      "metadata": {
        "id": "Ly23psrvJxBH"
      },
      "source": [
        "2. Загрузите данные из Excel-файла:"
      ]
    },
    {
      "cell_type": "code",
      "execution_count": null,
      "metadata": {
        "colab": {
          "base_uri": "https://localhost:8080/"
        },
        "id": "BcDnWaMKPJCy",
        "outputId": "cb8042f8-9b6c-4bd6-8c46-e7985e7add4a"
      },
      "outputs": [
        {
          "name": "stdout",
          "output_type": "stream",
          "text": [
            "\n",
            "Данные за 2022 год:\n",
            "  article        date  quantity\n",
            "0   A0366  2022-05-21         1\n",
            "1   A0479  2022-02-24         2\n",
            "2   A0248  2022-07-28         9\n",
            "3   A0424  2022-05-06         1\n",
            "4   A0258  2022-08-25         6\n"
          ]
        }
      ],
      "source": [
        "df_2022 = pd.read_excel('sales_2022.xlsx')\n",
        "print(\"\\nДанные за 2022 год:\")\n",
        "print(df_2022.head())"
      ]
    },
    {
      "cell_type": "code",
      "execution_count": null,
      "metadata": {
        "colab": {
          "base_uri": "https://localhost:8080/"
        },
        "id": "D64JfCtrJz3O",
        "outputId": "d1c97fdd-1ebd-447c-98eb-806d5a4c97c4"
      },
      "outputs": [
        {
          "name": "stdout",
          "output_type": "stream",
          "text": [
            "\n",
            "Данные за 2023 год:\n",
            "  article        date  quantity\n",
            "0   A0375  2023-07-16         2\n",
            "1   A0720  2023-01-20        13\n",
            "2   A0405  2023-01-19        17\n",
            "3   A0790  2023-05-29        18\n",
            "4   A0234  2023-07-02        12\n"
          ]
        }
      ],
      "source": [
        "df_2023 = pd.read_excel('sales_2023.xlsx')\n",
        "print(\"\\nДанные за 2023 год:\")\n",
        "print(df_2023.head())"
      ]
    },
    {
      "cell_type": "markdown",
      "metadata": {
        "id": "50Rl1R2IJ3MI"
      },
      "source": [
        "3. Загрузите данные из JSON-файла:"
      ]
    },
    {
      "cell_type": "code",
      "execution_count": null,
      "metadata": {
        "colab": {
          "base_uri": "https://localhost:8080/"
        },
        "id": "IuuD1-YXJ49W",
        "outputId": "b48f435a-4bb5-4262-c129-0e43547f20ea"
      },
      "outputs": [
        {
          "name": "stdout",
          "output_type": "stream",
          "text": [
            "\n",
            "Данные о спросе:\n",
            "          category  demand\n",
            "0      Электроника    0.81\n",
            "1           Одежда    0.80\n",
            "2            Книги    0.56\n",
            "3  Бытовая техника    0.77\n",
            "4      Спорттовары    0.68\n"
          ]
        }
      ],
      "source": [
        "df_demand_data = pd.read_json('demand_data.json')\n",
        "print(\"\\nДанные о спросе:\")\n",
        "print(df_demand_data.head())"
      ]
    },
    {
      "cell_type": "markdown",
      "metadata": {
        "id": "fKqey5q6J9op"
      },
      "source": [
        "### Шаг 3: Предварительная обработка и очистка данных\n",
        "1. Проверьте наличие пропущенных значений:"
      ]
    },
    {
      "cell_type": "code",
      "execution_count": null,
      "metadata": {
        "colab": {
          "base_uri": "https://localhost:8080/"
        },
        "id": "glHIeyB9J-aJ",
        "outputId": "10f5bd6c-c264-4a83-8851-b5205b84a025"
      },
      "outputs": [
        {
          "name": "stdout",
          "output_type": "stream",
          "text": [
            "\n",
            "Пропущенные значения:\n",
            "article     0\n",
            "date        0\n",
            "quantity    0\n",
            "dtype: int64\n",
            "article     0\n",
            "date        0\n",
            "quantity    0\n",
            "dtype: int64\n",
            "category    0\n",
            "demand      0\n",
            "dtype: int64\n"
          ]
        }
      ],
      "source": [
        "print(\"\\nПропущенные значения:\")\n",
        "print(df_2022.isnull().sum())\n",
        "print(df_2023.isnull().sum())\n",
        "print(df_demand_data.isnull().sum())"
      ]
    },
    {
      "cell_type": "markdown",
      "metadata": {
        "id": "K-EIo6tuKLf6"
      },
      "source": [
        "3. Приведите названия столбцов к единому формату:"
      ]
    },
    {
      "cell_type": "code",
      "execution_count": null,
      "metadata": {
        "id": "4v8TLMVlKNYh"
      },
      "outputs": [],
      "source": [
        "df_products.columns = df_products.columns.str.lower()\n",
        "df_sales_2022.columns = df_sales_2022.columns.str.lower()\n",
        "df_sales_2023.columns = df_sales_2023.columns.str.lower()\n",
        "df_demand.columns = df_demand.columns.str.lower()"
      ]
    },
    {
      "cell_type": "markdown",
      "metadata": {
        "id": "FHAyqq9TKPs_"
      },
      "source": [
        "### Шаг 4: Объединение данных\n",
        "1. Объедините данные о продажах за 2022 и 2023 годы:"
      ]
    },
    {
      "cell_type": "code",
      "execution_count": null,
      "metadata": {
        "colab": {
          "base_uri": "https://localhost:8080/"
        },
        "id": "SqwD7r4aKRj0",
        "outputId": "7840c33b-7486-4fcc-ad6c-6ff68da4066f"
      },
      "outputs": [
        {
          "name": "stdout",
          "output_type": "stream",
          "text": [
            "      article        date  quantity\n",
            "0       A0366  2022-05-21         1\n",
            "1       A0479  2022-02-24         2\n",
            "2       A0248  2022-07-28         9\n",
            "3       A0424  2022-05-06         1\n",
            "4       A0258  2022-08-25         6\n",
            "...       ...         ...       ...\n",
            "22995   A0429  2023-10-29         6\n",
            "22996   A0270  2023-08-07         2\n",
            "22997   A0533  2023-03-09         2\n",
            "22998   A0497  2023-12-29         6\n",
            "22999   A0936  2023-03-23         4\n",
            "\n",
            "[23000 rows x 3 columns]\n"
          ]
        }
      ],
      "source": [
        "df_sales = pd.concat([df_sales_2022, df_sales_2023], ignore_index=True)\n",
        "print(df_sales)"
      ]
    },
    {
      "cell_type": "markdown",
      "metadata": {
        "id": "vVouyvVdKW2v"
      },
      "source": [
        "2. Добавьте информацию о продуктах к данным о продажах:"
      ]
    },
    {
      "cell_type": "code",
      "execution_count": null,
      "metadata": {
        "colab": {
          "base_uri": "https://localhost:8080/"
        },
        "id": "HYHN2c-oKYV1",
        "outputId": "78dd03ef-ebf6-4808-9dd9-b6e8eb4c5abe"
      },
      "outputs": [
        {
          "name": "stdout",
          "output_type": "stream",
          "text": [
            "\n",
            "Консолидированные данные:\n",
            "  article        date  quantity_x         category  quantity_y\n",
            "0   A0366  2022-05-21           1  Бытовая техника         449\n",
            "1   A0479  2022-02-24           2  Бытовая техника         350\n",
            "2   A0248  2022-07-28           9  Бытовая техника          70\n",
            "3   A0424  2022-05-06           1  Бытовая техника         430\n",
            "4   A0258  2022-08-25           6      Электроника         136\n"
          ]
        }
      ],
      "source": [
        "df_consolidated = pd.merge(df_sales, df_products, on='article', how='left')\n",
        "print(\"\\nКонсолидированные данные:\")\n",
        "print(df_consolidated.head())"
      ]
    },
    {
      "cell_type": "markdown",
      "metadata": {
        "id": "jYpMB013KbEx"
      },
      "source": [
        "### Шаг 5: Агрегация и трансформация данных\n",
        "Рассчитайте общую сумму продаж по категориям продуктов:"
      ]
    },
    {
      "cell_type": "code",
      "source": [
        "print(df_consolidated.columns)\n"
      ],
      "metadata": {
        "colab": {
          "base_uri": "https://localhost:8080/"
        },
        "id": "99tQuA0URUAX",
        "outputId": "99d47c35-684c-44b4-840b-3d9cd5f69c97"
      },
      "execution_count": null,
      "outputs": [
        {
          "output_type": "stream",
          "name": "stdout",
          "text": [
            "Index(['article', 'date', 'quantity_x', 'category', 'quantity_y'], dtype='object')\n"
          ]
        }
      ]
    },
    {
      "cell_type": "code",
      "source": [
        "# Удаление лишнего столбца quantity_y\n",
        "df_consolidated.drop(columns=['quantity_y'], inplace=True)\n",
        "df_consolidated.rename(columns={'quantity_x': 'sales'}, inplace=True)"
      ],
      "metadata": {
        "id": "iDBsD8kdTpEl"
      },
      "execution_count": null,
      "outputs": []
    },
    {
      "cell_type": "markdown",
      "source": [
        "1. Рассчитаем общую сумму продаж по категориям продуктов"
      ],
      "metadata": {
        "id": "aW77M_C-TxG_"
      }
    },
    {
      "cell_type": "code",
      "execution_count": null,
      "metadata": {
        "colab": {
          "base_uri": "https://localhost:8080/"
        },
        "id": "POzC1z2zKcmt",
        "outputId": "89db455d-b54e-43c0-8bae-0ae97237b110"
      },
      "outputs": [
        {
          "output_type": "stream",
          "name": "stdout",
          "text": [
            "\n",
            "Общая сумма продаж по категориям:\n",
            "category\n",
            "Электроника        51186\n",
            "Бытовая техника    49710\n",
            "Спорттовары        47901\n",
            "Одежда             46774\n",
            "Книги              44824\n",
            "Name: sales, dtype: int64\n"
          ]
        }
      ],
      "source": [
        "sales_by_category = df_consolidated.groupby('category')['sales'].sum().sort_values(ascending=False)\n",
        "print(\"\\nОбщая сумма продаж по категориям:\")\n",
        "print(sales_by_category)"
      ]
    },
    {
      "cell_type": "markdown",
      "metadata": {
        "id": "4EPtLqJbKj9R"
      },
      "source": [
        "2. Создайте новый столбец с годом продажи:"
      ]
    },
    {
      "cell_type": "code",
      "execution_count": null,
      "metadata": {
        "id": "aecPAqZJKkif"
      },
      "outputs": [],
      "source": [
        "df_consolidated['year'] = pd.to_datetime(df_consolidated['date']).dt.year"
      ]
    },
    {
      "cell_type": "markdown",
      "metadata": {
        "id": "3Mo6ehi4KmpN"
      },
      "source": [
        "3. Рассчитайте среднюю сумму продаж по годам:"
      ]
    },
    {
      "cell_type": "code",
      "execution_count": null,
      "metadata": {
        "colab": {
          "base_uri": "https://localhost:8080/"
        },
        "id": "VWKgKHJDKomv",
        "outputId": "6e6e5b02-7d0d-4a7f-81fc-b7f30d24d6da"
      },
      "outputs": [
        {
          "output_type": "stream",
          "name": "stdout",
          "text": [
            "\n",
            "Средняя сумма продаж по годам:\n",
            "year\n",
            "2022    10.477200\n",
            "2023    10.432538\n",
            "Name: sales, dtype: float64\n"
          ]
        }
      ],
      "source": [
        "avg_sales_by_year = df_consolidated.groupby('year')['sales'].mean()\n",
        "print(\"\\nСредняя сумма продаж по годам:\")\n",
        "print(avg_sales_by_year)"
      ]
    },
    {
      "cell_type": "markdown",
      "metadata": {
        "id": "9FoMjqupKsIf"
      },
      "source": [
        "### Шаг 6: Визуализация данных\n",
        "1. Создайте график продаж по категориям:"
      ]
    },
    {
      "cell_type": "code",
      "execution_count": null,
      "metadata": {
        "colab": {
          "base_uri": "https://localhost:8080/",
          "height": 642
        },
        "id": "XY4aSq7MKsm0",
        "outputId": "d4ad8562-38b3-4087-ece4-789824e1e842"
      },
      "outputs": [
        {
          "output_type": "stream",
          "name": "stdout",
          "text": [
            "\n",
            "График 'Общая сумма продаж по категориям' сохранен как 'sales_by_category.png'\n"
          ]
        },
        {
          "output_type": "display_data",
          "data": {
            "text/plain": [
              "<Figure size 1200x600 with 1 Axes>"
            ],
            "image/png": "[encoded data removed]"
          },
          "metadata": {}
        }
      ],
      "source": [
        "plt.figure(figsize=(12, 6))\n",
        "sales_by_category.plot(kind='bar', color='skyblue')\n",
        "plt.title('Общая сумма продаж по категориям')\n",
        "plt.xlabel('Категория')\n",
        "plt.ylabel('Сумма продаж')\n",
        "plt.tight_layout()\n",
        "plt.savefig('sales_by_category.png')\n",
        "print(\"\\nГрафик 'Общая сумма продаж по категориям' сохранен как 'sales_by_category.png'\")"
      ]
    },
    {
      "cell_type": "markdown",
      "metadata": {
        "id": "KG06oSx0K5iu"
      },
      "source": [
        "2. Создайте график средних продаж по годам:"
      ]
    },
    {
      "cell_type": "code",
      "execution_count": null,
      "metadata": {
        "colab": {
          "base_uri": "https://localhost:8080/",
          "height": 542
        },
        "id": "qwneeFeAK7vc",
        "outputId": "d49fc82c-2435-4e6a-faba-afd5467f0f2e"
      },
      "outputs": [
        {
          "output_type": "stream",
          "name": "stdout",
          "text": [
            "\n",
            "График 'Средняя сумма продаж по годам' сохранен как 'avg_sales_by_year.png'\n"
          ]
        },
        {
          "output_type": "display_data",
          "data": {
            "text/plain": [
              "<Figure size 1000x500 with 1 Axes>"
            ],
            "image/png": "[encoded data removed]"
          },
          "metadata": {}
        }
      ],
      "source": [
        "plt.figure(figsize=(10, 5))\n",
        "avg_sales_by_year.plot(kind='line', marker='o', color='green')\n",
        "plt.title('Средняя сумма продаж по годам')\n",
        "plt.xlabel('Год')\n",
        "plt.ylabel('Средняя сумма продаж')\n",
        "plt.tight_layout()\n",
        "plt.savefig('avg_sales_by_year.png')\n",
        "print(\"\\nГрафик 'Средняя сумма продаж по годам' сохранен как 'avg_sales_by_year.png'\")"
      ]
    },
    {
      "cell_type": "markdown",
      "metadata": {
        "id": "UuE37VJ2LA0O"
      },
      "source": [
        "### Шаг 7: Сохранение консолидированных данных\n",
        "Сохраните консолидированные данные в CSV-файл:"
      ]
    },
    {
      "cell_type": "code",
      "execution_count": null,
      "metadata": {
        "colab": {
          "base_uri": "https://localhost:8080/"
        },
        "id": "58lohakrLDUW",
        "outputId": "73156420-04ca-4d49-e6a0-4285aacbe6c6"
      },
      "outputs": [
        {
          "output_type": "stream",
          "name": "stdout",
          "text": [
            "\n",
            "Консолидированные данные сохранены в файл 'consolidated_sales_data.csv'\n"
          ]
        }
      ],
      "source": [
        "df_consolidated.to_csv('consolidated_sales_data.csv', index=False)\n",
        "print(\"\\nКонсолидированные данные сохранены в файл 'consolidated_sales_data.csv'\")"
      ]
    },
    {
      "cell_type": "code",
      "execution_count": null,
      "metadata": {
        "colab": {
          "base_uri": "https://localhost:8080/",
          "height": 17
        },
        "id": "tpJ5Y-7RLWp6",
        "outputId": "fda29752-4fb7-4575-e02e-ac2d452bd19e"
      },
      "outputs": [
        {
          "output_type": "display_data",
          "data": {
            "text/plain": [
              "<IPython.core.display.Javascript object>"
            ],
            "application/javascript": [
              "\n",
              "    async function download(id, filename, size) {\n",
              "      if (!google.colab.kernel.accessAllowed) {\n",
              "        return;\n",
              "      }\n",
              "      const div = document.createElement('div');\n",
              "      const label = document.createElement('label');\n",
              "      label.textContent = `Downloading \"${filename}\": `;\n",
              "      div.appendChild(label);\n",
              "      const progress = document.createElement('progress');\n",
              "      progress.max = size;\n",
              "      div.appendChild(progress);\n",
              "      document.body.appendChild(div);\n",
              "\n",
              "      const buffers = [];\n",
              "      let downloaded = 0;\n",
              "\n",
              "      const channel = await google.colab.kernel.comms.open(id);\n",
              "      // Send a message to notify the kernel that we're ready.\n",
              "      channel.send({})\n",
              "\n",
              "      for await (const message of channel.messages) {\n",
              "        // Send a message to notify the kernel that we're ready.\n",
              "        channel.send({})\n",
              "        if (message.buffers) {\n",
              "          for (const buffer of message.buffers) {\n",
              "            buffers.push(buffer);\n",
              "            downloaded += buffer.byteLength;\n",
              "            progress.value = downloaded;\n",
              "          }\n",
              "        }\n",
              "      }\n",
              "      const blob = new Blob(buffers, {type: 'application/binary'});\n",
              "      const a = document.createElement('a');\n",
              "      a.href = window.URL.createObjectURL(blob);\n",
              "      a.download = filename;\n",
              "      div.appendChild(a);\n",
              "      a.click();\n",
              "      div.remove();\n",
              "    }\n",
              "  "
            ]
          },
          "metadata": {}
        },
        {
          "output_type": "display_data",
          "data": {
            "text/plain": [
              "<IPython.core.display.Javascript object>"
            ],
            "application/javascript": [
              "download(\"download_807d573a-27df-4e4d-a196-804d4d856efd\", \"consolidated_sales_data.csv\", 1030392)"
            ]
          },
          "metadata": {}
        }
      ],
      "source": [
        "from google.colab import files\n",
        "\n",
        "# Скачиваем CSV файл\n",
        "files.download('consolidated_sales_data.csv')"
      ]
    }
  ],
  "metadata": {
    "colab": {
      "provenance": [],
      "include_colab_link": true
    },
    "kernelspec": {
      "display_name": "Python 3",
      "name": "python3"
    },
    "language_info": {
      "name": "python"
    }
  },
  "nbformat": 4,
  "nbformat_minor": 0
}